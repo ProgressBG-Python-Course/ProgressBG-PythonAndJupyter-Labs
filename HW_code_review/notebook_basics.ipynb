{
 "cells": [
  {
   "cell_type": "markdown",
   "metadata": {},
   "source": [
    "# Homework"
   ]
  },
  {
   "cell_type": "code",
   "execution_count": 9,
   "metadata": {},
   "outputs": [
    {
     "name": "stdout",
     "output_type": "stream",
     "text": [
      "8\n"
     ]
    }
   ],
   "source": [
    "# define the function 'find_bigger_number()' bellow:\n",
    "def find_bigger_number(x,y):\n",
    "    if(x>=y):\n",
    "        return x\n",
    "    else:\n",
    "        return y\n",
    "\n",
    "bigger = find_bigger_number(2,8)\n",
    "print( bigger )  \n"
   ]
  },
  {
   "cell_type": "code",
   "execution_count": 19,
   "metadata": {},
   "outputs": [
    {
     "name": "stdout",
     "output_type": "stream",
     "text": [
      "2\n",
      "8\n",
      "4\n"
     ]
    }
   ],
   "source": [
    "# given\n",
    "\n",
    "def even_numbers():\n",
    "    numbers = [2, -4, -3, 13, 8, -6, 4] \n",
    "    for i in numbers:\n",
    "        if(i%2 ==0 and i>0):\n",
    "            print(i)\n",
    "        \n",
    "even_numbers()"
   ]
  },
  {
   "cell_type": "code",
   "execution_count": 1,
   "metadata": {},
   "outputs": [
    {
     "name": "stdout",
     "output_type": "stream",
     "text": [
      "3\n"
     ]
    }
   ],
   "source": [
    "# define the function 'count_even_positives()' bellow:\n",
    "\n",
    "def count_even_positives(numbers):\n",
    "    result = 0\n",
    "    for element in numbers:\n",
    "        if(element%2==0 and element>0):\n",
    "            result+=1\n",
    "    return result\n",
    "\n",
    "even_positives_count = count_even_positives([2, -4, -3, 13, 8, -6, 4])    \n",
    "print(even_positives_count)\n",
    "\n",
    "# expected output:\n",
    "# 3"
   ]
  },
  {
   "cell_type": "code",
   "execution_count": 37,
   "metadata": {},
   "outputs": [
    {
     "name": "stdout",
     "output_type": "stream",
     "text": [
      "There\n",
      "theory\n",
      "that\n",
      "the\n",
      "There\n",
      "theory\n",
      "that\n",
      "this\n"
     ]
    }
   ],
   "source": [
    "sentence = '''There is a theory which states that if ever anyone discovers exactly what the \n",
    "Universe is for and why it is here, it will instantly disappear and be replaced by something \n",
    "even more bizarre and inexplicable. There is another theory which states that this has \n",
    "already happened.'''\n",
    "\n",
    "# get a list of words from string  - use str.split() method with space as separator\n",
    "# your code goes below:\n",
    "\n",
    "\n",
    "# loop through words and print only the ones which starts with 't' or 'T'\n",
    "# your code goes below:\n",
    "        \n",
    "    \n",
    "str1 = \"t\"\n",
    "x = sentence.split(\" \")\n",
    "list_of_x = list(x) # no need, split returns an iterable\n",
    "for i in x:\n",
    "    #print(i)\n",
    "    if str1 in i[0].lower(): # iep: in is usually used for sequences, here '==' is enough\n",
    "        print(i)\n",
    "       "
   ]
  },
  {
   "cell_type": "code",
   "execution_count": null,
   "metadata": {},
   "outputs": [],
   "source": []
  }
 ],
 "metadata": {
  "kernelspec": {
   "display_name": "Python 3",
   "language": "python",
   "name": "python3"
  },
  "language_info": {
   "codemirror_mode": {
    "name": "ipython",
    "version": 3
   },
   "file_extension": ".py",
   "mimetype": "text/x-python",
   "name": "python",
   "nbconvert_exporter": "python",
   "pygments_lexer": "ipython3",
   "version": "3.7.4"
  }
 },
 "nbformat": 4,
 "nbformat_minor": 4
}
