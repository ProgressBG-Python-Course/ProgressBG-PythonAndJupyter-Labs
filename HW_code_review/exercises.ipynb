{
 "cells": [
  {
   "cell_type": "markdown",
   "metadata": {},
   "source": [
    "# Functions"
   ]
  },
  {
   "cell_type": "markdown",
   "metadata": {},
   "source": [
    "## Task1: find_bigger_number()\n",
    "\n",
    "Write a function `find_bigger_number()` which takes two numbers and returns the bigger one"
   ]
  },
  {
   "cell_type": "code",
   "execution_count": 4,
   "metadata": {},
   "outputs": [
    {
     "name": "stdout",
     "output_type": "stream",
     "text": [
      "8\n"
     ]
    }
   ],
   "source": [
    "# define the function 'find_bigger_number()' bellow:\n",
    "\n",
    "\n",
    "# example function call:\n",
    "#bigger = find_bigger_number(2,8)\n",
    "#print( bigger )  \n",
    "\n",
    "# expected output:\n",
    "# 8\n",
    "#solution:\n",
    "# x = int(input(\"give first number:\"))\n",
    "# y = int(input(\"give second number:\"))\n",
    "\n",
    "# iep: function must be pure function, i.e. to return the number, not to print it\n",
    "def find_bigger_number(x,y):\n",
    "    if x > y:\n",
    "        return x\n",
    "#         print(\"first number is bigger than second number\")\n",
    "    elif x == y:\n",
    "        return x\n",
    "    else:\n",
    "        return y\n",
    "\n",
    "        \n",
    "print(find_bigger_number(4,8)   )     \n",
    "            \n",
    "            "
   ]
  },
  {
   "cell_type": "markdown",
   "metadata": {},
   "source": [
    "# Lists and Strings manipulations"
   ]
  },
  {
   "cell_type": "markdown",
   "metadata": {},
   "source": [
    "## Task1: print positive even numbers\n",
    "\n",
    "Print only the positive (i.e. > 0) even numbers from a given list"
   ]
  },
  {
   "cell_type": "code",
   "execution_count": 11,
   "metadata": {},
   "outputs": [
    {
     "name": "stdout",
     "output_type": "stream",
     "text": [
      "2\n"
     ]
    }
   ],
   "source": [
    "# 1 option - preffered way:\n",
    "# numbers = [2, -4, -3, 13, 8, -6, 4] \n",
    "\n",
    "# your code goes below:\n",
    "def print_pos(numbers):\n",
    "#     numbers = [1,2,3]\n",
    "    for element in numbers:\n",
    "        if element %2 == 0 and element > 0:\n",
    "            print(element)\n",
    "        \n",
    "\n",
    "print_pos([1,2,3])            \n",
    "\n",
    "# expected output:\n",
    "# 2 \n",
    "# 8 \n",
    "# 4"
   ]
  },
  {
   "cell_type": "code",
   "execution_count": 41,
   "metadata": {},
   "outputs": [
    {
     "name": "stdout",
     "output_type": "stream",
     "text": [
      "2\n",
      "8\n",
      "4\n"
     ]
    }
   ],
   "source": [
    "# 2 option\n",
    "numbers = [2, -4, -3, 13, 8, -6, 4] \n",
    "\n",
    "# your code goes below:\n",
    "def print_pos():\n",
    "    for element in numbers:\n",
    "        if element %2 == 0:\n",
    "            if element > 0:\n",
    "                print(element)\n",
    "        \n",
    "\n",
    "print_pos()            \n",
    "\n",
    "# expected output:\n",
    "# 2 \n",
    "# 8 \n",
    "# 4"
   ]
  },
  {
   "cell_type": "markdown",
   "metadata": {},
   "source": [
    "## Task2: function count_even_positives()\n",
    "\n",
    "Define a function <code>count_even_positives()</code> which takes as argument a list of numbers, and returns the count of positive (i.e. > 0) even numbers from the given list"
   ]
  },
  {
   "cell_type": "code",
   "execution_count": 12,
   "metadata": {},
   "outputs": [
    {
     "data": {
      "text/plain": [
       "3"
      ]
     },
     "execution_count": 12,
     "metadata": {},
     "output_type": "execute_result"
    }
   ],
   "source": [
    "# define the function 'find_even_positives()' bellow: \n",
    "def find_even_positives(count_even_positives):\n",
    "    even_positives_count = 0\n",
    "    for el in count_even_positives:        \n",
    "        if el % 2 == 0 and el > 0:\n",
    "            even_positives_count += 1\n",
    "    \n",
    "#     print(even_positives_count)\n",
    "    return even_positives_count\n",
    "    \n",
    "# example function call:\n",
    "find_even_positives([2, -4, -3, 13, 8, -6, 4])\n",
    "\n",
    "#print(even_positives_count )  \n",
    "\n",
    "# expected output:\n",
    "# 3"
   ]
  },
  {
   "cell_type": "markdown",
   "metadata": {},
   "source": [
    "## Task3: find words starting with 't' or 'T'\n",
    "\n",
    "Get all words from a given string (for simplicity, just split it on space) and print only the words which starts with 't' or 'T'"
   ]
  },
  {
   "cell_type": "code",
   "execution_count": 19,
   "metadata": {},
   "outputs": [
    {
     "name": "stdout",
     "output_type": "stream",
     "text": [
      "[('There',), ('theory',), ('that',), ('the',), ('There',), ('theory',), ('that',), ('this',), ('t12',), ('t456',)]\n"
     ]
    }
   ],
   "source": [
    "# given is the string:\n",
    "sentence = '''There is a theory which states that if ever anyone discovers exactly what the \n",
    "Universe is for and why it is here,      it will instantly disappear and be replaced by something \n",
    "even more bizarre and inexplicable. There is another theory which states     that      this has t12@3\n",
    "t456\n",
    "already happened.'''\n",
    "\n",
    "# get a list of words from string  - use str.split() method with space as separator\n",
    "\n",
    "#I.\n",
    "# your code goes below:\n",
    "import re\n",
    "# no need for Regex, just ' ' es enough\n",
    "words=re.split('\\s+', sentence)\n",
    "words_starting_with_t = []\n",
    "\n",
    "for word in words:    \n",
    "    res = re.match(\"(^[t|T]\\w+)\", word)\n",
    "    \n",
    "    if res:\n",
    "#         print((z.groups()))\n",
    "        words_starting_with_t.append(res.groups())\n",
    "    \n",
    "print(words_starting_with_t)\n",
    "\n",
    "\n",
    "\n",
    "    \n",
    "    \n",
    "        "
   ]
  },
  {
   "cell_type": "code",
   "execution_count": 22,
   "metadata": {},
   "outputs": [
    {
     "name": "stdout",
     "output_type": "stream",
     "text": [
      "There\n",
      "theory\n",
      "that\n",
      "the\n",
      "There\n",
      "theory\n",
      "that\n",
      "this\n"
     ]
    }
   ],
   "source": [
    "#II.\n",
    "# given is the string:\n",
    "sentence = '''There is a theory which states that if ever anyone discovers exactly what the \n",
    "Universe is for and why it is here, it will instantly disappear and be replaced by something \n",
    "even more bizarre and inexplicable. There is another theory which states that this has \n",
    "already happened.'''\n",
    "\n",
    "# your code goes below:\n",
    "import re\n",
    "sentence_split=re.split('\\s+', sentence)\n",
    "# print(re.split(\"\\s+\",sentence))\n",
    "for l in sentence_split:\n",
    "    if l.lower().startswith(\"t\"):\n",
    "        print(l)\n",
    "    "
   ]
  },
  {
   "cell_type": "code",
   "execution_count": 4,
   "metadata": {},
   "outputs": [
    {
     "name": "stdout",
     "output_type": "stream",
     "text": [
      "['There', 'is', 'a', 'theory', 'which', 'states', 'that', 'if', 'ever', 'anyone', 'discovers', 'exactly', 'what', 'the', 'Universe', 'is', 'for', 'and', 'why', 'it', 'is', 'here,', 'it', 'will', 'instantly', 'disappear', 'and', 'be', 'replaced', 'by', 'something', 'even', 'more', 'bizarre', 'and', 'inexplicable.', 'There', 'is', 'another', 'theory', 'which', 'states', 'that', 'this', 'has', 'already', 'happened.']\n",
      "['There']\n",
      "['theory']\n",
      "['that']\n",
      "['the']\n",
      "['There']\n",
      "['theory']\n",
      "['that']\n",
      "['this']\n"
     ]
    }
   ],
   "source": [
    "#III.\n",
    "\n",
    "sentence = '''There is a theory which states that if ever anyone discovers exactly what the \n",
    "Universe is for and why it is here, it will instantly disappear and be replaced by something \n",
    "even more bizarre and inexplicable. There is another theory which states that this has \n",
    "already happened.'''\n",
    "\n",
    "import re\n",
    "sentence_split=re.split('\\s+', sentence)\n",
    "print(re.split(\"\\s+\",sentence))\n",
    "for l in sentence_split:\n",
    "     z = list(filter(None,(re.findall(r'^[t|T]+\\w.+',l) for l in sentence_split)))\n",
    "for items in z:\n",
    "    print(items)"
   ]
  },
  {
   "cell_type": "code",
   "execution_count": 17,
   "metadata": {},
   "outputs": [
    {
     "name": "stdout",
     "output_type": "stream",
     "text": [
      "There\n",
      "theory\n",
      "that\n",
      "the\n",
      "There\n",
      "theory\n",
      "that\n",
      "this\n"
     ]
    }
   ],
   "source": [
    "# iep\n",
    "\n",
    "sentence = '''There is a theory which states that if ever anyone discovers exactly what the \n",
    "Universe is for and why it is here, it will instantly disappear and be replaced by something \n",
    "even more bizarre and inexplicable. There is another theory which states that this has \n",
    "already happened.'''\n",
    "\n",
    "sentence_split=sentence.split(' ')\n",
    "\n",
    "for l in sentence_split:    \n",
    "    z = filter(lambda w: w.lower().startswith('t'), sentence_split)\n",
    "#     z = filter(lambda w: w.lower()[0] == 't', sentence_split)\n",
    "        \n",
    "for items in z:\n",
    "    print(items)"
   ]
  },
  {
   "cell_type": "code",
   "execution_count": null,
   "metadata": {},
   "outputs": [],
   "source": []
  }
 ],
 "metadata": {
  "kernelspec": {
   "display_name": "Python 3",
   "language": "python",
   "name": "python3"
  },
  "language_info": {
   "codemirror_mode": {
    "name": "ipython",
    "version": 3
   },
   "file_extension": ".py",
   "mimetype": "text/x-python",
   "name": "python",
   "nbconvert_exporter": "python",
   "pygments_lexer": "ipython3",
   "version": "3.7.4"
  }
 },
 "nbformat": 4,
 "nbformat_minor": 4
}
