{
 "cells": [
  {
   "cell_type": "markdown",
   "metadata": {},
   "source": [
    "# Files manipulations"
   ]
  },
  {
   "cell_type": "markdown",
   "metadata": {},
   "source": [
    "## Directory Manipulations"
   ]
  },
  {
   "cell_type": "code",
   "execution_count": 53,
   "metadata": {},
   "outputs": [],
   "source": [
    "import os"
   ]
  },
  {
   "cell_type": "code",
   "execution_count": 54,
   "metadata": {},
   "outputs": [
    {
     "data": {
      "text/plain": [
       "'/home/nemsys/projects/courses/ProgressBG/JupyterNotebooksExamples/Notebooks/Python_basics/File_manipulations'"
      ]
     },
     "execution_count": 54,
     "metadata": {},
     "output_type": "execute_result"
    }
   ],
   "source": [
    "# Get the current working directory\n",
    "os.getcwd()"
   ]
  },
  {
   "cell_type": "code",
   "execution_count": 55,
   "metadata": {},
   "outputs": [
    {
     "data": {
      "text/plain": [
       "['file_manipulations.ipynb', '.ipynb_checkpoints', 'file1.txt']"
      ]
     },
     "execution_count": 55,
     "metadata": {},
     "output_type": "execute_result"
    }
   ],
   "source": [
    "# List entries in a directory\n",
    "os.listdir()"
   ]
  },
  {
   "cell_type": "markdown",
   "metadata": {
    "toc-hr-collapsed": true
   },
   "source": [
    "## Read from file"
   ]
  },
  {
   "cell_type": "markdown",
   "metadata": {},
   "source": [
    "### open file"
   ]
  },
  {
   "cell_type": "markdown",
   "metadata": {},
   "source": [
    "Most of file operations in Python are done through the File Object Methods. I.e. before reading or writing to a file, we must get the corresponding File Object with the `open` built-in function.\n",
    "\n",
    "<dl class=\"fa\">\n",
    "    <dt><code>fh = open(file_path, mode=\"<em>mode</em>\")</code></dt>\n",
    "    <dt>Open file by the given pathname and return a corresponding file object</dt>\n",
    "    <dt><em>mode</em></dt>\n",
    "    <dd>'r' - open for reading (default)</dd>\n",
    "    <dd>'w' - open for writing, truncating the file first</dd>\n",
    "    <dd>'a' - open for writing, appending to the end of the file if it exists</dd>\n",
    "    <dt class=\"note\">After the work with the file is done, you have to call fh.close() in order to release the fh</dt>\n",
    "  </dl>"
   ]
  },
  {
   "cell_type": "code",
   "execution_count": 2,
   "metadata": {},
   "outputs": [
    {
     "name": "stdout",
     "output_type": "stream",
     "text": [
      "<_io.TextIOWrapper name='file1.txt' mode='r' encoding='UTF-8'>\n"
     ]
    }
   ],
   "source": [
    "fh = open('file1.txt', mode='r')\n",
    "print(fh)\n",
    "fh.close()"
   ]
  },
  {
   "cell_type": "markdown",
   "metadata": {},
   "source": [
    "### Read from file"
   ]
  },
  {
   "cell_type": "markdown",
   "metadata": {},
   "source": [
    "**Read whole file**\n",
    "\n",
    "`content = fh.read()`\n",
    "\n",
    "Reads file content and stores it in variable"
   ]
  },
  {
   "cell_type": "code",
   "execution_count": 7,
   "metadata": {},
   "outputs": [
    {
     "data": {
      "text/plain": [
       "False"
      ]
     },
     "execution_count": 7,
     "metadata": {},
     "output_type": "execute_result"
    }
   ],
   "source": [
    "fh = open('file1.txt', mode='r')\n",
    "content = fh.read()\n",
    "fh.close()\n",
    "\n",
    "# task find if a word (i.e. 'iva') is contained in file1.txt\n",
    "if 'iva' in content:\n",
    "    print('Yes')\n",
    "else: \n",
    "    print('No')\n",
    "\n",
    "\n",
    "\n",
    "# note test it outside JN to see the actual result, i.e. the EOL symbols"
   ]
  },
  {
   "cell_type": "markdown",
   "metadata": {},
   "source": [
    "### Get list of lines"
   ]
  },
  {
   "cell_type": "code",
   "execution_count": 11,
   "metadata": {},
   "outputs": [
    {
     "name": "stdout",
     "output_type": "stream",
     "text": [
      "['line1\\n', 'line2\\n', '3line\\n', 'iva popova']\n"
     ]
    },
    {
     "data": {
      "text/plain": [
       "['3line\\n', 'iva popova', 'line1\\n', 'line2\\n']"
      ]
     },
     "execution_count": 11,
     "metadata": {},
     "output_type": "execute_result"
    }
   ],
   "source": [
    "fh = open('file1.txt', mode='r')\n",
    "lines = list(fh)\n",
    "print(lines)\n",
    "fh.close()\n",
    "\n",
    "sorted(lines)"
   ]
  },
  {
   "cell_type": "markdown",
   "metadata": {},
   "source": [
    "### Loop over lines"
   ]
  },
  {
   "cell_type": "code",
   "execution_count": 24,
   "metadata": {},
   "outputs": [
    {
     "name": "stdout",
     "output_type": "stream",
     "text": [
      "iva popova\n",
      " - 4\n"
     ]
    }
   ],
   "source": [
    "fh = open('file1.txt', mode='r')\n",
    "\n",
    "# in the begining 'count' is 1\n",
    "count=1\n",
    "\n",
    "# TASK: print only the lines and line numers, which contain the word : 'iva'\n",
    "for line in fh:\t\n",
    "\tif 'iva' in line:\n",
    "\t\tprint(f'{line} - {count}')\n",
    "    \n",
    "    # count = count + 1\n",
    "\tcount += 1\n",
    "\n",
    "fh.close()"
   ]
  },
  {
   "cell_type": "markdown",
   "metadata": {},
   "source": [
    "## Write to a file"
   ]
  },
  {
   "cell_type": "markdown",
   "metadata": {},
   "source": [
    "### Write to an Existing File\n",
    "\n",
    "Note, when we want to write to existing file, we must open it in write/append mode.\n",
    "\n",
    "`mode='w'` - opens the file for writing. **Will overwrite any existing content**\n",
    "\n",
    "`mode='a'` - opens the file for appending. **Will keep the content, writing at the end**"
   ]
  },
  {
   "cell_type": "code",
   "execution_count": 27,
   "metadata": {},
   "outputs": [],
   "source": [
    "# append to file\n",
    "fh = open('file1.txt', mode='a')\n",
    "fh.write('\\naaaaaaaaaaa')\n",
    "fh.close()"
   ]
  },
  {
   "cell_type": "code",
   "execution_count": 28,
   "metadata": {},
   "outputs": [],
   "source": [
    "# write to file\n",
    "fh = open('file1.txt', mode='w')\n",
    "fh.write('alalabal')\n",
    "# fh.close()"
   ]
  },
  {
   "cell_type": "markdown",
   "metadata": {},
   "source": [
    "## Create a New File"
   ]
  },
  {
   "cell_type": "markdown",
   "metadata": {},
   "source": [
    "To create a new file in Python, use the open() method, with one of the following modes:\n",
    "\n",
    "`mode='c'` - will create the file, but will returns an error if the file exist\n",
    "\n",
    "`mode='a'` - will create the file if it does not exists, or will open it for appending.\n",
    "\n",
    "`mode='w'` - will create the file if it does not exists, or will open it for writing (**note, that the content will be deleted, if file exists**)\n"
   ]
  },
  {
   "cell_type": "code",
   "execution_count": 30,
   "metadata": {},
   "outputs": [
    {
     "name": "stdout",
     "output_type": "stream",
     "text": [
      "file1.txt\t\t  functions.ipynb\t\t  Untitled.ipynb\r\n",
      "file_manipulations.ipynb  my_first_python_notebook.ipynb  untitled.txt\r\n",
      "files_demo.ipynb\t  python_basic_data_types.ipynb\r\n",
      "files_demo.py\t\t  strings_manipulations.ipynb\r\n"
     ]
    }
   ],
   "source": [
    "!dir"
   ]
  },
  {
   "cell_type": "code",
   "execution_count": 36,
   "metadata": {},
   "outputs": [
    {
     "ename": "FileExistsError",
     "evalue": "[Errno 17] File exists: 'file3.txt'",
     "output_type": "error",
     "traceback": [
      "\u001b[0;31m---------------------------------------------------------------------------\u001b[0m",
      "\u001b[0;31mFileExistsError\u001b[0m                           Traceback (most recent call last)",
      "\u001b[0;32m<ipython-input-36-f3e1d6d5b51f>\u001b[0m in \u001b[0;36m<module>\u001b[0;34m\u001b[0m\n\u001b[0;32m----> 1\u001b[0;31m \u001b[0mfh\u001b[0m \u001b[0;34m=\u001b[0m \u001b[0mopen\u001b[0m\u001b[0;34m(\u001b[0m\u001b[0;34m'file3.txt'\u001b[0m\u001b[0;34m,\u001b[0m \u001b[0mmode\u001b[0m\u001b[0;34m=\u001b[0m\u001b[0;34m'x'\u001b[0m\u001b[0;34m)\u001b[0m\u001b[0;34m\u001b[0m\u001b[0;34m\u001b[0m\u001b[0m\n\u001b[0m\u001b[1;32m      2\u001b[0m \u001b[0mfh\u001b[0m\u001b[0;34m.\u001b[0m\u001b[0mwrite\u001b[0m\u001b[0;34m(\u001b[0m\u001b[0;34m'\\nlet\\'s write a new line'\u001b[0m\u001b[0;34m)\u001b[0m\u001b[0;34m\u001b[0m\u001b[0;34m\u001b[0m\u001b[0m\n\u001b[1;32m      3\u001b[0m \u001b[0mfh\u001b[0m\u001b[0;34m.\u001b[0m\u001b[0mclose\u001b[0m\u001b[0;34m(\u001b[0m\u001b[0;34m)\u001b[0m\u001b[0;34m\u001b[0m\u001b[0;34m\u001b[0m\u001b[0m\n",
      "\u001b[0;31mFileExistsError\u001b[0m: [Errno 17] File exists: 'file3.txt'"
     ]
    }
   ],
   "source": [
    "fh = open('file3.txt', mode='x')\n",
    "fh.write('\\nlet\\'s write a new line')\n",
    "fh.close()"
   ]
  },
  {
   "cell_type": "code",
   "execution_count": 70,
   "metadata": {},
   "outputs": [],
   "source": [
    "fh = open('file2.txt', mode='w')\n",
    "fh.write('\\nlet\\'s write a new line')\n",
    "fh.close()"
   ]
  },
  {
   "cell_type": "code",
   "execution_count": 74,
   "metadata": {},
   "outputs": [
    {
     "name": "stdout",
     "output_type": "stream",
     "text": [
      "file1.txt  file2.txt  file_manipulations.ipynb\n"
     ]
    }
   ],
   "source": [
    "# lets check if file is created\n",
    "!ls"
   ]
  },
  {
   "cell_type": "code",
   "execution_count": null,
   "metadata": {},
   "outputs": [],
   "source": []
  }
 ],
 "metadata": {
  "kernelspec": {
   "display_name": "Python 3",
   "language": "python",
   "name": "python3"
  },
  "language_info": {
   "codemirror_mode": {
    "name": "ipython",
    "version": 3
   },
   "file_extension": ".py",
   "mimetype": "text/x-python",
   "name": "python",
   "nbconvert_exporter": "python",
   "pygments_lexer": "ipython3",
   "version": "3.7.4"
  },
  "toc": {
   "base_numbering": 1,
   "nav_menu": {},
   "number_sections": true,
   "sideBar": true,
   "skip_h1_title": false,
   "title_cell": "Table of Contents",
   "title_sidebar": "Contents",
   "toc_cell": false,
   "toc_position": {},
   "toc_section_display": true,
   "toc_window_display": false
  }
 },
 "nbformat": 4,
 "nbformat_minor": 4
}
