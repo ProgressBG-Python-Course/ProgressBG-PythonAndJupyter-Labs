{
 "cells": [
  {
   "cell_type": "markdown",
   "metadata": {},
   "source": [
    "## IO functions"
   ]
  },
  {
   "cell_type": "code",
   "execution_count": 4,
   "metadata": {},
   "outputs": [
    {
     "name": "stdout",
     "output_type": "stream",
     "text": [
      "1-2-3\n",
      "END\n"
     ]
    }
   ],
   "source": [
    "print(1,2,3, sep='-')\n",
    "print('END')"
   ]
  },
  {
   "cell_type": "code",
   "execution_count": 7,
   "metadata": {},
   "outputs": [],
   "source": [
    "def greet_user():\n",
    "    ''' demo for input() and print() '''\n",
    "    user_name = input('enter your name, please:')\n",
    "\n",
    "    # note, that we must convert the input to number:\n",
    "    user_age = int( input('enter your age: ') )\n",
    "\n",
    "    print('Hello ', user_name, ' -you are :', user_age)\n",
    "\n",
    "    # print with format method:\n",
    "    print( 'Hello , {} - you are {} years old'.format(user_name, user_age))\n",
    "\n",
    "    # print with f-strings\n",
    "    print( f'Hello {user_name} - you are {user_age + 10} years old' )\n",
    "    \n",
    "# greet_user()\n"
   ]
  },
  {
   "cell_type": "code",
   "execution_count": null,
   "metadata": {},
   "outputs": [],
   "source": [
    "user_name = input(\"hi, what's your name: \")\n",
    "# user_surname = input(\"will you tell me your sur name?:\")\n",
    "\n",
    "print(f\"Nice to meet you, {user_name.capitalize()} {user_surname} !\")"
   ]
  },
  {
   "cell_type": "markdown",
   "metadata": {},
   "source": [
    "## Membership testing (the in, not in, operators)"
   ]
  },
  {
   "cell_type": "code",
   "execution_count": null,
   "metadata": {},
   "outputs": [],
   "source": [
    "user_name = 'iva obr'\n",
    "if( 'vo' in user_name):\n",
    "    print('Yes')\n",
    "else:\n",
    "    print('No')\n"
   ]
  },
  {
   "cell_type": "code",
   "execution_count": null,
   "metadata": {},
   "outputs": [],
   "source": [
    "k1 = [34, 56, 12, -9, 4]\n",
    "56 in k1"
   ]
  },
  {
   "cell_type": "markdown",
   "metadata": {},
   "source": [
    "## Indexing"
   ]
  },
  {
   "cell_type": "code",
   "execution_count": null,
   "metadata": {},
   "outputs": [],
   "source": [
    "str = '1234hjdfhfdjA'\n",
    "str[-3]"
   ]
  },
  {
   "cell_type": "code",
   "execution_count": null,
   "metadata": {},
   "outputs": [],
   "source": [
    "print( str[ len(str) - 1] )"
   ]
  },
  {
   "cell_type": "markdown",
   "metadata": {},
   "source": [
    "### Slicing"
   ]
  },
  {
   "cell_type": "code",
   "execution_count": null,
   "metadata": {},
   "outputs": [],
   "source": [
    "l = [1,2,3,4,5]"
   ]
  },
  {
   "cell_type": "code",
   "execution_count": null,
   "metadata": {},
   "outputs": [],
   "source": [
    "# get the first 3 elements:\n",
    "l[0:3]\n",
    "l[:3]"
   ]
  },
  {
   "cell_type": "code",
   "execution_count": null,
   "metadata": {},
   "outputs": [],
   "source": [
    "# get only odd elements:\n",
    "l[0::2]"
   ]
  },
  {
   "cell_type": "code",
   "execution_count": null,
   "metadata": {},
   "outputs": [],
   "source": [
    "# get the last 3 elements:\n",
    "l[2:]\n",
    "l[-3:]"
   ]
  },
  {
   "cell_type": "code",
   "execution_count": null,
   "metadata": {},
   "outputs": [],
   "source": [
    "# get all numbers in reverced order:\n",
    "l[-1::-1]"
   ]
  },
  {
   "cell_type": "code",
   "execution_count": null,
   "metadata": {},
   "outputs": [],
   "source": [
    "# reverse string:\n",
    "user_name = 'Byron'\n",
    "user_name[-1::-1]"
   ]
  },
  {
   "cell_type": "code",
   "execution_count": null,
   "metadata": {},
   "outputs": [],
   "source": [
    "# multi-dim lists:\n",
    "ml = [ ['a','b'], ['c','d'], ['e','f'] ]\n",
    "ml"
   ]
  },
  {
   "cell_type": "code",
   "execution_count": null,
   "metadata": {},
   "outputs": [],
   "source": [
    "ml[0][0]"
   ]
  },
  {
   "cell_type": "code",
   "execution_count": null,
   "metadata": {},
   "outputs": [],
   "source": [
    "ml[1][1]"
   ]
  },
  {
   "cell_type": "code",
   "execution_count": null,
   "metadata": {},
   "outputs": [],
   "source": [
    "ml[-1][-1]"
   ]
  },
  {
   "cell_type": "markdown",
   "metadata": {},
   "source": [
    "### numpy multi-dim array demo"
   ]
  },
  {
   "cell_type": "code",
   "execution_count": null,
   "metadata": {},
   "outputs": [],
   "source": [
    "import numpy as np"
   ]
  },
  {
   "cell_type": "code",
   "execution_count": null,
   "metadata": {},
   "outputs": [],
   "source": [
    "np_ml = np.array(ml)\n",
    "np_ml"
   ]
  },
  {
   "cell_type": "code",
   "execution_count": null,
   "metadata": {},
   "outputs": [],
   "source": [
    "np_ml[:,1]"
   ]
  },
  {
   "cell_type": "markdown",
   "metadata": {},
   "source": [
    "### loops on sequences"
   ]
  },
  {
   "cell_type": "markdown",
   "metadata": {},
   "source": [
    "#### notes on list() function"
   ]
  },
  {
   "cell_type": "code",
   "execution_count": null,
   "metadata": {},
   "outputs": [],
   "source": [
    "user_name = 'byron'\n",
    "list( user_name )"
   ]
  },
  {
   "cell_type": "code",
   "execution_count": null,
   "metadata": {},
   "outputs": [],
   "source": [
    "l = list( range(1,11) ) \n",
    "l"
   ]
  },
  {
   "cell_type": "code",
   "execution_count": null,
   "metadata": {},
   "outputs": [],
   "source": [
    "# print all odd numbers of l:\n",
    "for x in l:\n",
    "    # check if x is odd:\n",
    "    if x%2:\n",
    "        print(x)\n"
   ]
  },
  {
   "cell_type": "code",
   "execution_count": null,
   "metadata": {},
   "outputs": [],
   "source": [
    "# task:\n",
    "# ask the user for his name:\n",
    "#     user_name = \"iva\"\n",
    "# check if the user_name has a letter from the filter: \n",
    "#     f=['a', 'o', 'u']"
   ]
  },
  {
   "cell_type": "code",
   "execution_count": null,
   "metadata": {},
   "outputs": [],
   "source": [
    "# ask the user for his name:\n",
    "user_name = input('Enter your name, please:')\n",
    "user_name\n"
   ]
  },
  {
   "cell_type": "code",
   "execution_count": null,
   "metadata": {},
   "outputs": [],
   "source": [
    "# check if the user_name has the letter 'a':\n",
    "l = 'a'\n",
    "if l in user_name:\n",
    "    print(f'{l} is in user_name')\n",
    "else:\n",
    "    print('No')"
   ]
  },
  {
   "cell_type": "code",
   "execution_count": null,
   "metadata": {},
   "outputs": [],
   "source": [
    "# check if the user_name has a letter from the filter: \n",
    "f=['a', 'o', 'u']\n",
    "\n",
    "for l in f:\n",
    "    if l in user_name:\n",
    "        print(f'{l} is in user_name')\n",
    "    else:\n",
    "        print('No')\n"
   ]
  },
  {
   "cell_type": "code",
   "execution_count": null,
   "metadata": {},
   "outputs": [],
   "source": [
    "# print each letter in 'byron' on new line: \n",
    "for element in 'byron':\n",
    "    print(element)"
   ]
  },
  {
   "cell_type": "markdown",
   "metadata": {},
   "source": [
    "## String methods"
   ]
  },
  {
   "cell_type": "code",
   "execution_count": null,
   "metadata": {},
   "outputs": [],
   "source": [
    "# str.capitalize()\n",
    "'abv'.capitalize()"
   ]
  },
  {
   "cell_type": "code",
   "execution_count": null,
   "metadata": {},
   "outputs": [],
   "source": [
    "user_name = 'ada'\n",
    "user_last_name = 'byron'\n",
    "\n",
    "\n",
    "# task:\n",
    "# print(user_full_name)\n",
    "# 'Ada Byron' "
   ]
  },
  {
   "cell_type": "code",
   "execution_count": null,
   "metadata": {},
   "outputs": [],
   "source": [
    "user_full_name = user_name.capitalize() + ' ' + user_last_name.capitalize()\n",
    "user_full_name"
   ]
  },
  {
   "cell_type": "code",
   "execution_count": null,
   "metadata": {},
   "outputs": [],
   "source": [
    "# with f-strings:\n",
    "user_full_name = f'{user_name.capitalize()} {user_last_name.capitalize()}'\n",
    "user_full_name"
   ]
  },
  {
   "cell_type": "code",
   "execution_count": null,
   "metadata": {},
   "outputs": [],
   "source": [
    "# with str.format() method:\n",
    "user_full_name = '{} {}'.format(user_name.capitalize(), user_last_name.capitalize())\n",
    "user_full_name"
   ]
  },
  {
   "cell_type": "code",
   "execution_count": null,
   "metadata": {},
   "outputs": [],
   "source": [
    "# str.count()\n",
    "main_string = 'ada byron ada ado oda oada'\n",
    "sub_string = 'ada'\n",
    "\n",
    "# str.count(sub)\n",
    "main_string.count(sub_string)\n",
    "\n",
    "# str.count(sub, start_index)\n",
    "main_string.count(sub_string, 11)\n",
    "\n",
    "# str.count(sub, start_index, end_index)\n",
    "main_string.count(sub_string, 4, 11)"
   ]
  },
  {
   "cell_type": "code",
   "execution_count": null,
   "metadata": {},
   "outputs": [],
   "source": [
    "# str.find(sub)\n",
    "main_string = '0123abv78abv'\n",
    "sub_string = 'ab'\n",
    "main_string.find(sub_string)"
   ]
  },
  {
   "cell_type": "code",
   "execution_count": null,
   "metadata": {},
   "outputs": [],
   "source": [
    "iterable_str = 'abc'\n",
    "new_str = '-'.join(iterable_str)\n",
    "new_str"
   ]
  },
  {
   "cell_type": "code",
   "execution_count": null,
   "metadata": {},
   "outputs": [],
   "source": [
    "# # TODO: make it work and discus in labs\n",
    "# digits_joined_with_pipe = '|'.join( range(1,101)  )\n",
    "\n",
    "# print(digits_joined_with_pipe)\n",
    "# # '1|2|3| ...|100'"
   ]
  },
  {
   "cell_type": "code",
   "execution_count": null,
   "metadata": {},
   "outputs": [],
   "source": [
    "# str.split()\n",
    "string = '1|2|3|4|5-6|7,8'\n",
    "splitted = string.split('|')\n",
    "splitted"
   ]
  },
  {
   "cell_type": "code",
   "execution_count": null,
   "metadata": {},
   "outputs": [],
   "source": [
    "csv_string = 'data1,,data2,data3,,'\n",
    "\n",
    "for el in csv_string.split(','):\n",
    "    if el: # skip empty strings\n",
    "        print(el)\n",
    "\n",
    "# data1\n",
    "# data2\n",
    "# data3"
   ]
  },
  {
   "cell_type": "code",
   "execution_count": null,
   "metadata": {},
   "outputs": [],
   "source": [
    "# str.replace()\n",
    "\n",
    "string = 'a   b A c d a dd a'\n",
    "string.replace('a','@')"
   ]
  },
  {
   "cell_type": "code",
   "execution_count": 3,
   "metadata": {},
   "outputs": [
    {
     "name": "stdout",
     "output_type": "stream",
     "text": [
      "[1, 2, 3, 4, 7]\n",
      "[1, 4, 3, 2, 7]\n",
      "[1, 2, 3, 4, 7]\n"
     ]
    }
   ],
   "source": [
    "# sort simple demo\n",
    "\n",
    "unsorted_list = [1,4,3,2,7]\n",
    "sorted_list = sorted( unsorted_list )\n",
    "\n",
    "print(sorted_list)\n",
    "print(unsorted_list)\n",
    "\n",
    "# unsorted.sort()\n",
    "\n",
    "print(sorted_list)"
   ]
  },
  {
   "cell_type": "code",
   "execution_count": 10,
   "metadata": {},
   "outputs": [],
   "source": [
    "str1 = '1fa2gbc'"
   ]
  },
  {
   "cell_type": "code",
   "execution_count": 12,
   "metadata": {},
   "outputs": [
    {
     "name": "stdout",
     "output_type": "stream",
     "text": [
      "['1', '2', 'a', 'b', 'c', 'f', 'g']\n"
     ]
    }
   ],
   "source": [
    "str_sorted = sorted(str1,reverse=False)\n",
    "print(str_sorted)"
   ]
  },
  {
   "cell_type": "code",
   "execution_count": null,
   "metadata": {},
   "outputs": [],
   "source": []
  }
 ],
 "metadata": {
  "kernelspec": {
   "display_name": "Python 3",
   "language": "python",
   "name": "python3"
  },
  "language_info": {
   "codemirror_mode": {
    "name": "ipython",
    "version": 3
   },
   "file_extension": ".py",
   "mimetype": "text/x-python",
   "name": "python",
   "nbconvert_exporter": "python",
   "pygments_lexer": "ipython3",
   "version": "3.7.4"
  },
  "toc": {
   "base_numbering": 1,
   "nav_menu": {},
   "number_sections": true,
   "sideBar": true,
   "skip_h1_title": false,
   "title_cell": "Table of Contents",
   "title_sidebar": "Contents",
   "toc_cell": false,
   "toc_position": {},
   "toc_section_display": true,
   "toc_window_display": false
  }
 },
 "nbformat": 4,
 "nbformat_minor": 4
}
