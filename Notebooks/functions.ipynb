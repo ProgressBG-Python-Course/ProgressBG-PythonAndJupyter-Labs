{
 "cells": [
  {
   "cell_type": "markdown",
   "metadata": {},
   "source": [
    "# Functions in Python"
   ]
  },
  {
   "cell_type": "code",
   "execution_count": 1,
   "metadata": {},
   "outputs": [
    {
     "name": "stdout",
     "output_type": "stream",
     "text": [
      "********************\n",
      "* Ada\n",
      "********************\n"
     ]
    }
   ],
   "source": [
    "user_name = 'Ada'\n",
    "print('*' * 20)\n",
    "print('*', user_name)\n",
    "print('*' * 20)"
   ]
  },
  {
   "cell_type": "code",
   "execution_count": 8,
   "metadata": {},
   "outputs": [],
   "source": [
    "def display_user_name_dummy():\n",
    "    user_name = 'Ada'\n",
    "    print('*' * 20)\n",
    "    print('*', user_name)\n",
    "    print('*' * 20) "
   ]
  },
  {
   "cell_type": "code",
   "execution_count": 9,
   "metadata": {},
   "outputs": [
    {
     "name": "stdout",
     "output_type": "stream",
     "text": [
      "********************\n",
      "* Ada\n",
      "********************\n",
      "********************\n",
      "* Ada\n",
      "********************\n"
     ]
    }
   ],
   "source": [
    "display_user_name_dummy()\n",
    "display_user_name_dummy()"
   ]
  },
  {
   "cell_type": "code",
   "execution_count": 11,
   "metadata": {},
   "outputs": [],
   "source": [
    "def display_user_name(user_name):\n",
    "#     user_name = 'Ada'\n",
    "    print('*' * 20)\n",
    "    print('*', user_name)\n",
    "    print('*' * 20) "
   ]
  },
  {
   "cell_type": "code",
   "execution_count": 13,
   "metadata": {},
   "outputs": [
    {
     "name": "stdout",
     "output_type": "stream",
     "text": [
      "********************\n",
      "* Ada\n",
      "********************\n",
      "********************\n",
      "* John\n",
      "********************\n"
     ]
    }
   ],
   "source": [
    "display_user_name('Ada')\n",
    "display_user_name('John')"
   ]
  },
  {
   "cell_type": "code",
   "execution_count": 16,
   "metadata": {},
   "outputs": [
    {
     "name": "stdout",
     "output_type": "stream",
     "text": [
      "x = 2\n",
      "y = 3\n",
      "5\n",
      "\n",
      "\n",
      "x = 3\n",
      "y = 2\n",
      "5\n",
      "\n",
      "\n"
     ]
    }
   ],
   "source": [
    "def add(x,y):\n",
    "    print('x =',x)\n",
    "    print('y =',y)\n",
    "    print(x+y)\n",
    "    print('\\n')\n",
    "\n",
    "    \n",
    "add(2,3)\n",
    "add(3,2)"
   ]
  },
  {
   "cell_type": "code",
   "execution_count": 23,
   "metadata": {
    "code_folding": []
   },
   "outputs": [
    {
     "name": "stdout",
     "output_type": "stream",
     "text": [
      "3 ** 2 =  9\n",
      "4 ** 2 =  16\n"
     ]
    }
   ],
   "source": [
    "def sqrt(x):\n",
    "    print(x, '** 2 = ' , x**2)\n",
    "\n",
    "sqrt(3)\n",
    "sqrt(4)"
   ]
  },
  {
   "cell_type": "code",
   "execution_count": 28,
   "metadata": {},
   "outputs": [
    {
     "ename": "SyntaxError",
     "evalue": "non-default argument follows default argument (<ipython-input-28-208fc36734c9>, line 1)",
     "output_type": "error",
     "traceback": [
      "\u001b[0;36m  File \u001b[0;32m\"<ipython-input-28-208fc36734c9>\"\u001b[0;36m, line \u001b[0;32m1\u001b[0m\n\u001b[0;31m    def power(b=2,a,):\u001b[0m\n\u001b[0m             ^\u001b[0m\n\u001b[0;31mSyntaxError\u001b[0m\u001b[0;31m:\u001b[0m non-default argument follows default argument\n"
     ]
    }
   ],
   "source": [
    "def power(a, b=2):\n",
    "    print(a, '** ', b, ' = ', a**b)\n",
    "\n",
    "power(3,3)\n",
    "\n",
    "power(4,5)\n",
    "\n",
    "power(5) # set default parameter for power = 2 "
   ]
  },
  {
   "cell_type": "code",
   "execution_count": 32,
   "metadata": {
    "code_folding": []
   },
   "outputs": [
    {
     "name": "stdout",
     "output_type": "stream",
     "text": [
      "the msg is:  hello\n",
      "the width is:  12\n",
      "the height is:  5\n"
     ]
    }
   ],
   "source": [
    "def area(msg, width, height):\n",
    "    print('the msg is: ', msg)\n",
    "    print('the width is: ', width)\n",
    "    print('the height is: ', height)\n",
    "    \n",
    "area(\"hello\", height=5, width=12)"
   ]
  },
  {
   "cell_type": "code",
   "execution_count": 33,
   "metadata": {},
   "outputs": [
    {
     "name": "stdout",
     "output_type": "stream",
     "text": [
      "5\n"
     ]
    },
    {
     "ename": "TypeError",
     "evalue": "add_multiple() takes 2 positional arguments but 3 were given",
     "output_type": "error",
     "traceback": [
      "\u001b[0;31m---------------------------------------------------------------------------\u001b[0m",
      "\u001b[0;31mTypeError\u001b[0m                                 Traceback (most recent call last)",
      "\u001b[0;32m<ipython-input-33-6e23bd1906af>\u001b[0m in \u001b[0;36m<module>\u001b[0;34m\u001b[0m\n\u001b[1;32m      3\u001b[0m \u001b[0;34m\u001b[0m\u001b[0m\n\u001b[1;32m      4\u001b[0m \u001b[0madd_multiple\u001b[0m\u001b[0;34m(\u001b[0m\u001b[0;36m2\u001b[0m\u001b[0;34m,\u001b[0m\u001b[0;36m3\u001b[0m\u001b[0;34m)\u001b[0m \u001b[0;31m# 5\u001b[0m\u001b[0;34m\u001b[0m\u001b[0;34m\u001b[0m\u001b[0m\n\u001b[0;32m----> 5\u001b[0;31m \u001b[0madd_multiple\u001b[0m\u001b[0;34m(\u001b[0m\u001b[0;36m2\u001b[0m\u001b[0;34m,\u001b[0m\u001b[0;36m3\u001b[0m\u001b[0;34m,\u001b[0m\u001b[0;36m4\u001b[0m\u001b[0;34m)\u001b[0m \u001b[0;31m# 9\u001b[0m\u001b[0;34m\u001b[0m\u001b[0;34m\u001b[0m\u001b[0m\n\u001b[0m",
      "\u001b[0;31mTypeError\u001b[0m: add_multiple() takes 2 positional arguments but 3 were given"
     ]
    }
   ],
   "source": [
    "def add_multiple(x,y):\n",
    "    print(x+y)\n",
    "\n",
    "add_multiple(2,3) # 5\n",
    "add_multiple(2,3,4) # 9"
   ]
  },
  {
   "cell_type": "code",
   "execution_count": 34,
   "metadata": {},
   "outputs": [
    {
     "name": "stdout",
     "output_type": "stream",
     "text": [
      "[2, 3]\n",
      "[2, 3, 4]\n"
     ]
    }
   ],
   "source": [
    "def add_multiple_as_list(l):\n",
    "    print(l)\n",
    "\n",
    "add_multiple_as_list( [2,3] ) # 5\n",
    "add_multiple_as_list( [2,3,4] ) # 9"
   ]
  },
  {
   "cell_type": "code",
   "execution_count": 36,
   "metadata": {},
   "outputs": [
    {
     "name": "stdout",
     "output_type": "stream",
     "text": [
      "2\n",
      "5\n"
     ]
    }
   ],
   "source": [
    "def foo(x):\n",
    "    print(x)\n",
    "    return 5\n",
    "    print('END')\n",
    "\n",
    "print( foo(2) )"
   ]
  },
  {
   "cell_type": "code",
   "execution_count": 39,
   "metadata": {},
   "outputs": [
    {
     "name": "stdout",
     "output_type": "stream",
     "text": [
      "x = 2\n",
      "y = 3\n",
      "5\n",
      "\n",
      "\n",
      "None\n"
     ]
    }
   ],
   "source": [
    "def add(x,y):\n",
    "    print('x =',x)\n",
    "    print('y =',y)\n",
    "    print(x+y)\n",
    "    print('\\n')\n",
    "          \n",
    "          \n",
    "print( add(2,3) )"
   ]
  },
  {
   "cell_type": "code",
   "execution_count": 51,
   "metadata": {},
   "outputs": [
    {
     "name": "stdout",
     "output_type": "stream",
     "text": [
      "13\n"
     ]
    },
    {
     "data": {
      "text/plain": [
       "29"
      ]
     },
     "execution_count": 51,
     "metadata": {},
     "output_type": "execute_result"
    }
   ],
   "source": [
    "def add(x,y):\n",
    "    x = 9\n",
    "    # return the sum of 2 numbers\n",
    "    return x+y\n",
    "    \n",
    "def mult(x,y):\n",
    "    # return the multiple of 2 numbers\n",
    "    res  =  x*y\n",
    "    return add(x,y) + res\n",
    "    \n",
    "    \n",
    "\n",
    "print( add(2,4) ) # 13\n",
    "mult(3,5) #"
   ]
  },
  {
   "cell_type": "code",
   "execution_count": 47,
   "metadata": {
    "code_folding": [
     0
    ]
   },
   "outputs": [
    {
     "name": "stdout",
     "output_type": "stream",
     "text": [
      "x in foo:  3\n"
     ]
    },
    {
     "ename": "NameError",
     "evalue": "name 'xxxx' is not defined",
     "output_type": "error",
     "traceback": [
      "\u001b[0;31m---------------------------------------------------------------------------\u001b[0m",
      "\u001b[0;31mNameError\u001b[0m                                 Traceback (most recent call last)",
      "\u001b[0;32m<ipython-input-47-3aae51b303bc>\u001b[0m in \u001b[0;36m<module>\u001b[0;34m\u001b[0m\n\u001b[1;32m      7\u001b[0m \u001b[0mfoo\u001b[0m\u001b[0;34m(\u001b[0m\u001b[0;34m)\u001b[0m\u001b[0;34m\u001b[0m\u001b[0;34m\u001b[0m\u001b[0m\n\u001b[1;32m      8\u001b[0m \u001b[0;34m\u001b[0m\u001b[0m\n\u001b[0;32m----> 9\u001b[0;31m \u001b[0mprint\u001b[0m\u001b[0;34m(\u001b[0m\u001b[0;34m'user_name in main: '\u001b[0m\u001b[0;34m,\u001b[0m \u001b[0mxxxx\u001b[0m\u001b[0;34m)\u001b[0m\u001b[0;34m\u001b[0m\u001b[0;34m\u001b[0m\u001b[0m\n\u001b[0m",
      "\u001b[0;31mNameError\u001b[0m: name 'xxxx' is not defined"
     ]
    }
   ],
   "source": [
    "def foo():\n",
    "    xxxx = 3\n",
    "    user_name = 'Ada'\n",
    "    print('x in foo: ', xxxx)\n",
    "    \n",
    "\n",
    "foo()\n",
    "\n",
    "print('user_name in main: ', xxxx)"
   ]
  },
  {
   "cell_type": "code",
   "execution_count": null,
   "metadata": {},
   "outputs": [],
   "source": []
  }
 ],
 "metadata": {
  "kernelspec": {
   "display_name": "Python 3",
   "language": "python",
   "name": "python3"
  },
  "language_info": {
   "codemirror_mode": {
    "name": "ipython",
    "version": 3
   },
   "file_extension": ".py",
   "mimetype": "text/x-python",
   "name": "python",
   "nbconvert_exporter": "python",
   "pygments_lexer": "ipython3",
   "version": "3.7.4"
  },
  "toc": {
   "base_numbering": 1,
   "nav_menu": {},
   "number_sections": true,
   "sideBar": true,
   "skip_h1_title": false,
   "title_cell": "Table of Contents",
   "title_sidebar": "Contents",
   "toc_cell": false,
   "toc_position": {},
   "toc_section_display": true,
   "toc_window_display": false
  }
 },
 "nbformat": 4,
 "nbformat_minor": 2
}
